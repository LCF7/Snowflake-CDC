{
 "cells": [
  {
   "cell_type": "markdown",
   "metadata": {},
   "source": [
    "<h2 style=\"color:green; font-size: 40px;\" align=\"center\">Snowflake Continuous Data Capture (CDC) Setup Notebook<h2>\n",
    "<h2 style=\"color:grey\" align=\"center\">Setup CDC schema and tables<h2>"
   ]
  },
  {
   "cell_type": "markdown",
   "metadata": {},
   "source": [
    "```sql\n",
    "\n",
    "-- Create the CDC schema in the RAW database\n",
    "CREATE OR REPLACE SCHEMA raw.cdc;\n",
    "\n",
    "-- Create the staging table with the latest active data\n",
    "CREATE OR REPLACE TABLE raw.cdc.stg_active_nation (\n",
    "    N_NATIONKEY NUMBER,               -- Nation key (numeric)\n",
    "    N_NAME STRING,                    -- Nation name (string)\n",
    "    N_REGIONKEY NUMBER,               -- Region key (numeric)\n",
    "    N_COMMENT STRING,                 -- Comment (string)\n",
    "    CREATED_TIME TIMESTAMP_NTZ,      \n",
    "    MODIFIED_TIME TIMESTAMP_NTZ        \n",
    ");\n",
    "\n",
    "-- Create a table to hold all historic changes\n",
    "CREATE OR REPLACE TABLE raw.cdc.nation_historic_changes (\n",
    "    N_NATIONKEY NUMBER,               -- Nation key (numeric)\n",
    "    N_NAME STRING,                    -- Nation name (string)\n",
    "    N_REGIONKEY NUMBER,               -- Region key (numeric)\n",
    "    N_COMMENT STRING,                 -- Comment (string)\n",
    "    CREATED_TIME TIMESTAMP_NTZ,       -- Created time with no time zone\n",
    "    MODIFIED_TIME TIMESTAMP_NTZ,      -- Modified time with no time zone\n",
    "    CHANGE_TIME TIMESTAMP_NTZ,        -- Time of the change\n",
    "    METADATA$ACTION STRING,           -- Metadata for type of action (INSERT, UPDATE, DELETE)\n",
    "    METADATA$ISUPDATE STRING,         -- Flag if this record was an update\n",
    "    METADATA$ROW_ID STRING            -- Metadata for row identity\n",
    ");"
   ]
  },
  {
   "cell_type": "markdown",
   "metadata": {},
   "source": [
    "<h2 style=\"color:grey\" align=\"center\">Change Detection - Create Stream on Staging Table <h2>"
   ]
  },
  {
   "cell_type": "markdown",
   "metadata": {},
   "source": [
    "```sql\n",
    "\n",
    "-- Create a stream to monitor changes in the STG_Active table\n",
    "CREATE OR REPLACE STREAM raw.cdc.stg_active_nation_stream ON TABLE raw.cdc.stg_active_nation;\n"
   ]
  },
  {
   "cell_type": "markdown",
   "metadata": {},
   "source": [
    "<h2 style=\"color:grey\" align=\"center\">Change Detection - Data Merging <h2>"
   ]
  },
  {
   "cell_type": "markdown",
   "metadata": {},
   "source": [
    "```sql\n",
    "\n",
    "-- Create the procedure to merge data\n",
    "CREATE OR REPLACE PROCEDURE raw.cdc.merge_to_stg_active_nation_proc()\n",
    "RETURNS VARCHAR(16777216)\n",
    "LANGUAGE SQL\n",
    "EXECUTE AS CALLER\n",
    "AS ' begin\n",
    "\n",
    "MERGE INTO raw.cdc.stg_active_nation AS target\n",
    "USING (\n",
    "    SELECT N_NATIONKEY, N_NAME, N_REGIONKEY, N_COMMENT,\n",
    "           CURRENT_TIMESTAMP() AS modified_time\n",
    "    FROM raw.source_1.nation\n",
    ") AS source\n",
    "ON target.N_NATIONKEY = source.N_NATIONKEY\n",
    "WHEN MATCHED AND (\n",
    "    target.N_NAME IS DISTINCT FROM source.N_NAME OR\n",
    "    target.N_REGIONKEY IS DISTINCT FROM source.N_REGIONKEY OR\n",
    "    target.N_COMMENT IS DISTINCT FROM source.N_COMMENT\n",
    ")\n",
    "THEN UPDATE SET\n",
    "    target.N_NAME = source.N_NAME,\n",
    "    target.N_REGIONKEY = source.N_REGIONKEY,\n",
    "    target.N_COMMENT = source.N_COMMENT,\n",
    "    target.modified_time = source.modified_time\n",
    "WHEN NOT MATCHED\n",
    "THEN INSERT (N_NATIONKEY, N_NAME, N_REGIONKEY, N_COMMENT, created_time, modified_time)\n",
    "VALUES (source.N_NATIONKEY, source.N_NAME, source.N_REGIONKEY, source.N_COMMENT, source.modified_time, source.modified_time)\n",
    "\n",
    ";\n",
    "\n",
    "delete from raw.cdc.stg_active_nation where N_NATIONKEY not in (select distinct  N_NATIONKEY from raw.source_1.nation)\n",
    "\n",
    ";\n",
    "\n",
    "return ''success'';\n",
    "end; '\n",
    "\n",
    "\n",
    "-- Create a task to apply the merge logic\n",
    "CREATE OR REPLACE TASK raw.cdc.merge_to_stg_active_nation\n",
    "WAREHOUSE = 'WAREHOUSE'\n",
    "SCHEDULE ='USING CRON * * * * * America/New_York' --Adjust as required\n",
    "AS call raw.cdc.merge_to_stg_active_nation_proc()\n"
   ]
  },
  {
   "cell_type": "markdown",
   "metadata": {},
   "source": [
    "<h2 style=\"color:grey\" align=\"center\">Change Detection - Consume Stream <h2>"
   ]
  },
  {
   "cell_type": "markdown",
   "metadata": {},
   "source": [
    "```sql\n",
    "\n",
    "-- Create a task to insert stream data into the historic changes table\n",
    "CREATE OR REPLACE TASK raw.cdc.insert_to_nation_historic_changes\n",
    "WAREHOUSE = 'WAREHOUSE'\n",
    "AFTER raw.cdc.merge_to_stg_active_nation\n",
    "AS INSERT INTO raw.cdc.nation_historic_changes\n",
    "SELECT \n",
    "    N_NATIONKEY, \n",
    "    N_NAME, \n",
    "    N_REGIONKEY, \n",
    "    N_COMMENT, \n",
    "    CREATED_TIME, \n",
    "    MODIFIED_TIME, \n",
    "    CURRENT_TIMESTAMP() AS CHANGE_TIME, \n",
    "    METADATA$ACTION, \n",
    "    METADATA$ISUPDATE,\n",
    "    METADATA$ROW_ID\n",
    "FROM raw.cdc.stg_active_nation_stream;\n"
   ]
  },
  {
   "cell_type": "markdown",
   "metadata": {},
   "source": [
    "<h2 style=\"color:grey\" align=\"center\">Change Detection - Task Management <h2>"
   ]
  },
  {
   "cell_type": "markdown",
   "metadata": {},
   "source": [
    "```sql\n",
    "\n",
    "-- Start the merge task\n",
    "ALTER TASK raw.cdc.merge_to_stg_active_nation RESUME;\n",
    "EXECUTE TASK raw.cdc.merge_to_stg_active_nation;\n",
    "\n",
    "-- Start the insert task\n",
    "ALTER TASK raw.cdc.insert_to_nation_historic_changes RESUME;\n",
    "EXECUTE TASK raw.cdc.insert_to_nation_historic_changes;\n",
    "\n"
   ]
  },
  {
   "cell_type": "markdown",
   "metadata": {},
   "source": [
    "<h2 style=\"color:grey\" align=\"center\">Change Detection - Testing <h2>"
   ]
  },
  {
   "cell_type": "markdown",
   "metadata": {},
   "source": [
    "```sql\n",
    "\n",
    "SELECT * FROM RAW.CDC.NATION_HISTORIC_CHANGES ORDER BY CHANGE_TIME DESC, MODIFIED_TIME DESC\n",
    "SELECT * FROM RAW.CDC.STG_ACTIVE_NATION\n",
    "SELECT * FROM RAW.CDC.STG_ACTIVE_NATION_STREAM \n",
    "\n",
    "UPDATE RAW.SOURCE_1.NATION\n",
    "SET\n",
    "N_NAME = 'COLOMBIA'\n",
    "WHERE N_NATIONKEY = 0\n",
    "\n",
    "EXECUTE TASK raw.cdc.merge_to_stg_active_nation;\n",
    "EXECUTE TASK raw.cdc.insert_to_nation_historic_changes;\n",
    "SELECT * FROM RAW.CDC.NATION_HISTORIC_CHANGES ORDER BY CHANGE_TIME DESC, MODIFIED_TIME DESC\n",
    "\n"
   ]
  },
  {
   "cell_type": "markdown",
   "metadata": {},
   "source": [
    "![Imagen not found](https://drive.google.com/uc?export=view&id=1OrYJ2ZaL1-Iz5_WHVOt--dyWkGm9YxSr)\n",
    "\n",
    "\n",
    "\n",
    "\n"
   ]
  }
 ],
 "metadata": {
  "kernelspec": {
   "display_name": "base",
   "language": "python",
   "name": "python3"
  },
  "language_info": {
   "codemirror_mode": {
    "name": "ipython",
    "version": 3
   },
   "file_extension": ".py",
   "mimetype": "text/x-python",
   "name": "python",
   "nbconvert_exporter": "python",
   "pygments_lexer": "ipython3",
   "version": "3.10.13"
  }
 },
 "nbformat": 4,
 "nbformat_minor": 2
}
